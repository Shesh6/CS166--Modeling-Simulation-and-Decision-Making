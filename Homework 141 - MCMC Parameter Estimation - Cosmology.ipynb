{
  "nbformat": 4,
  "nbformat_minor": 0,
  "metadata": {
    "colab": {
      "name": "CS166PW141.ipynb",
      "version": "0.3.2",
      "provenance": [],
      "collapsed_sections": []
    },
    "kernelspec": {
      "name": "python3",
      "display_name": "Python 3"
    }
  },
  "cells": [
    {
      "metadata": {
        "id": "Cyp5LAFaiIX5",
        "colab_type": "text"
      },
      "cell_type": "markdown",
      "source": [
        "#### CS166 Pre-class Work for Session 14.1:\n",
        "\n",
        "### MCMC Parameter Estimation: Cosmology\n",
        "\n",
        "_Yoav Rabinovich, April 2019_\n",
        "\n",
        "_____________"
      ]
    },
    {
      "metadata": {
        "id": "erEngFRaiSUK",
        "colab_type": "text"
      },
      "cell_type": "markdown",
      "source": [
        "#### Exercise 1: What is the universe made of?\n",
        " "
      ]
    },
    {
      "metadata": {
        "id": "BnmEgEMVibSi",
        "colab_type": "text"
      },
      "cell_type": "markdown",
      "source": [
        "_WMAP’s website published an interactive simulation that allows you to investigate the effects of the different\n",
        "cosmological parameters on the primordial power spectrum curve.  Adjust the\n",
        "6 parameters of the simulation to obtain an overlap between the simulation curve (in blue) and the observational\n",
        "curve (in red). What are the final values of each parameter for a ‘perfect’ fit?_\n",
        "\n",
        "https://map.gsfc.nasa.gov/resources/camb_tool/index.html"
      ]
    },
    {
      "metadata": {
        "id": "bn9zM5dlikwN",
        "colab_type": "text"
      },
      "cell_type": "markdown",
      "source": [
        "- Atoms: 4%\n",
        "- Cold Dark Matter: 22%\n",
        "- Dark Energy: 74%\n",
        "\n",
        "- Hubble Constant: 73\n",
        "- Reionization Redshift: 11\n",
        "- Spectral Index: 0.95"
      ]
    },
    {
      "metadata": {
        "id": "H-AztsFAi8EA",
        "colab_type": "text"
      },
      "cell_type": "markdown",
      "source": [
        "#### Exercise 2: What is the protactinium half-decay?"
      ]
    },
    {
      "metadata": {
        "id": "UR5IiSvojAyK",
        "colab_type": "text"
      },
      "cell_type": "markdown",
      "source": [
        "_The proctatinium is a radioactive isotope that decays exponentially with time. . In this exercise we will focus on a nonMCMC approach for determining the proctatinium’s half-life. The theoretical value is 1.17 minutes._"
      ]
    },
    {
      "metadata": {
        "id": "IgW9xgFziGGb",
        "colab_type": "code",
        "colab": {}
      },
      "cell_type": "code",
      "source": [
        "# imports\n",
        "import numpy as np\n",
        "import pandas as pd\n",
        "import matplotlib.pyplot as plt\n",
        "from scipy.optimize import curve_fit"
      ],
      "execution_count": 0,
      "outputs": []
    },
    {
      "metadata": {
        "id": "FX2DgfPQjVG_",
        "colab_type": "code",
        "colab": {}
      },
      "cell_type": "code",
      "source": [
        "# import data\n",
        "data = pd.read_csv(\"https://gist.githubusercontent.com/raquelhr/d1324510056353feeccf111d6b186a0d/raw/7b3bccc7917f3baa7ec1d919195d120083ee75e9/proctatinium_data.csv\")"
      ],
      "execution_count": 0,
      "outputs": []
    },
    {
      "metadata": {
        "id": "o59Pta5vnxQV",
        "colab_type": "code",
        "colab": {}
      },
      "cell_type": "code",
      "source": [
        "# define curve to fit\n",
        "def decay_32(t, lamb):\n",
        "    return 32*np.exp(-lamb*t)"
      ],
      "execution_count": 0,
      "outputs": []
    },
    {
      "metadata": {
        "id": "J5ZxMnpXjewk",
        "colab_type": "code",
        "outputId": "2a26fbe6-5ff9-4a6b-bcef-61ad6e531f12",
        "colab": {
          "base_uri": "https://localhost:8080/",
          "height": 50
        }
      },
      "cell_type": "code",
      "source": [
        "# optimize\n",
        "trials = 10000\n",
        "lamb = 1\n",
        "\n",
        "optimal_params =[]\n",
        "\n",
        "for t in range(trials):\n",
        "    # add noise to data\n",
        "    noise = pd.Series(np.random.normal(0, 1,len(data)))\n",
        "    noisy = pd.Series(data[\"count_rate\"])\n",
        "    noisy = noisy+noise\n",
        "    popt,pcov = curve_fit(decay_32,data[\"time\"],noisy)\n",
        "    optimal_params.append(popt[0])"
      ],
      "execution_count": 0,
      "outputs": [
        {
          "output_type": "stream",
          "text": [
            "/usr/local/lib/python3.6/dist-packages/ipykernel_launcher.py:2: RuntimeWarning: overflow encountered in exp\n",
            "  \n"
          ],
          "name": "stderr"
        }
      ]
    },
    {
      "metadata": {
        "id": "dTunKY8RpJ9x",
        "colab_type": "code",
        "outputId": "415a0964-5e2f-49f1-8af3-7b58d2e44bec",
        "colab": {
          "base_uri": "https://localhost:8080/",
          "height": 269
        }
      },
      "cell_type": "code",
      "source": [
        "# plot\n",
        "mean = np.mean(optimal_params)\n",
        "plt.hist(optimal_params,density=True)\n",
        "plt.axvline(mean,color=\"r\")\n",
        "plt.show()\n",
        "\n",
        "#report mean\n",
        "print(\"Best estimate for lambda:\",np.mean(mean))\n",
        "print(\"Which corresponds to a half-life of\",np.log(2)/(mean*60),\"minutes.\")"
      ],
      "execution_count": 0,
      "outputs": [
        {
          "output_type": "display_data",
          "data": {
            "image/png": "[encoded data removed]",
            "text/plain": [
              "<Figure size 432x288 with 1 Axes>"
            ]
          },
          "metadata": {
            "tags": []
          }
        },
        {
          "output_type": "stream",
          "text": [
            "Best estimate for lambda: 0.008453359008483966\n",
            "Which corresponds to a half-life of 1.3666109528458616 minutes.\n"
          ],
          "name": "stdout"
        }
      ]
    }
  ]
}
