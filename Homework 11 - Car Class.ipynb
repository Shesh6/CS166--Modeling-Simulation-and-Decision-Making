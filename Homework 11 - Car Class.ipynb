{
  "nbformat": 4,
  "nbformat_minor": 0,
  "metadata": {
    "colab": {
      "name": "CS166PW11.ipynb",
      "version": "0.3.2",
      "provenance": []
    },
    "kernelspec": {
      "name": "python3",
      "display_name": "Python 3"
    }
  },
  "cells": [
    {
      "metadata": {
        "id": "-wSoe7IMcw6c",
        "colab_type": "text"
      },
      "cell_type": "markdown",
      "source": [
        "### CS166 Pre-Class Work 1.1\n",
        "\n",
        "*Car Class*\n",
        "\n",
        "Define a Car() class.\n",
        "\n",
        "In the __init__() function, define several attributes of a car. Some good attributes to consider are make (Subaru, Audi, Volvo...), model (Outback, allroad, C30), year, num_doors, owner, or any other aspect of a car you care to include in your class.\n",
        "\n",
        "Write one method. This could be something such as describe_car(). This method could print a series of statements that describe the car, using the information that is stored in the attributes. You could also write a method that adjusts the mileage of the car or tracks its position.\n",
        "\n",
        "Create a car object, and use your method.\n",
        "\n",
        "Create several car objects with different values for the attributes. Use your method on several of your cars."
      ]
    },
    {
      "metadata": {
        "id": "LW8l3iGWcX69",
        "colab_type": "code",
        "outputId": "b6adaee3-e6e7-474f-c067-d9f176dcfe8c",
        "colab": {
          "base_uri": "https://localhost:8080/",
          "height": 34
        }
      },
      "cell_type": "code",
      "source": [
        "class Car():\n",
        "  \n",
        "  def __init__(self,make,model,owner):\n",
        "    \n",
        "    self.make = make\n",
        "    self.model = model\n",
        "    self.owner = owner\n",
        "    self.operational = True\n",
        "    \n",
        "  def fly(self):\n",
        "    \n",
        "    if (self.make != \"delorean\") and (self.model != \"chitty chitty bang bang\") and (self.owner != \"weasly\"):\n",
        "      self.operational = False\n",
        "      \n",
        "car1 = Car(\"delorean\", \"dmc\", \"brown\")\n",
        "car2 = Car(\"unknown\", \"chitty chitty bang bang\", \"potts\")\n",
        "car3 = Car(\"ford\", \"angelina\", \"weasly\")\n",
        "car4 = Car(\"ford\", \"thunderbird\", \"thelma & louise\")\n",
        "\n",
        "car1.fly()\n",
        "car2.fly()\n",
        "car3.fly()\n",
        "car4.fly()\n",
        "\n",
        "print(car1.operational,car2.operational,car3.operational,car4.operational)\n",
        "  "
      ],
      "execution_count": 0,
      "outputs": [
        {
          "output_type": "stream",
          "text": [
            "True True True False\n"
          ],
          "name": "stdout"
        }
      ]
    },
    {
      "metadata": {
        "id": "i6_w6ePrfhYe",
        "colab_type": "code",
        "colab": {}
      },
      "cell_type": "code",
      "source": [
        ""
      ],
      "execution_count": 0,
      "outputs": []
    }
  ]
}