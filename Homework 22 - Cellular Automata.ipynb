{
  "nbformat": 4,
  "nbformat_minor": 0,
  "metadata": {
    "colab": {
      "name": "CS166PW22.ipynb",
      "version": "0.3.2",
      "provenance": [],
      "collapsed_sections": []
    },
    "kernelspec": {
      "name": "python3",
      "display_name": "Python 3"
    }
  },
  "cells": [
    {
      "metadata": {
        "id": "f55veQ-dFWLz",
        "colab_type": "text"
      },
      "cell_type": "markdown",
      "source": [
        "### CS166 Pre-Class Work for Session 2.2\n",
        "\n",
        "## Implementing Cellular Automata\n",
        "\n",
        "_Yoav Rabinovich, Jan 2019_\n",
        "\n",
        "--------------------------------------"
      ]
    },
    {
      "metadata": {
        "id": "HgrvhYG8Fpmu",
        "colab_type": "text"
      },
      "cell_type": "markdown",
      "source": [
        "**Sayama Exercise 11.3**:\n",
        "\n",
        "Modify Code 11.5 to implement a simulator of the Game of Life\n",
        "CA. Simulate the dynamics from a random initial configuration. Measure the density\n",
        "of state 1’s in the configuration at each time step, and plot how the density\n",
        "changes over time. This can be done by creating an empty list in the initialize\n",
        "function, and then making the measurement and appending the result to the list in\n",
        "the observe function. The results stored in the list can be plotted manually after the\n",
        "simulation, or they could be plotted next to the visualization using pylab’s subplot\n",
        "function during the simulation."
      ]
    },
    {
      "metadata": {
        "id": "cNM55LkNFSLo",
        "colab_type": "code",
        "colab": {}
      },
      "cell_type": "code",
      "source": [
        "import matplotlib\n",
        "matplotlib.use('TkAgg')\n",
        "from pylab import *\n",
        "\n",
        "n = 100 # size of space: n x n\n",
        "p = 0.4 # probability of initial activation\n",
        "\n",
        "def initialize():\n",
        "    global config, nextconfig, density\n",
        "    config = zeros([n, n])\n",
        "    density=[]\n",
        "    for x in range(n):\n",
        "        for y in range(n):\n",
        "            config[x, y] = 1 if random() < p else 0\n",
        "    nextconfig = zeros([n, n])\n",
        "    \n",
        "def observe():\n",
        "    global config, nextconfig, density\n",
        "    cla()\n",
        "    matplotlib.pyplot.subplot(1,2,1)\n",
        "    imshow(config, vmin = 0, vmax = 1, cmap = cm.binary)\n",
        "    matplotlib.pyplot.subplot(1,2,2)\n",
        "    density.append(sum(sum(density))/n**2)\n",
        "    if len(density)!=0:\n",
        "        matplotlib.pyplot.plot(range(len(density)),density)\n",
        "\n",
        "def update():\n",
        "    global config, nextconfig, density\n",
        "    for x in range(n):\n",
        "        for y in range(n):\n",
        "            count = 0\n",
        "            for dx in [-1, 0, 1]:\n",
        "                for dy in [-1, 0, 1]:\n",
        "                    count += config[(x + dx) % n, (y + dy) % n]\n",
        "            if config[x,y]==1:\n",
        "                nextconfig[x, y] = 1 if 3<=count<=4 else 0\n",
        "            else:\n",
        "                nextconfig[x,y] = 1 if count==3 else 0\n",
        "    config, nextconfig = nextconfig, config"
      ],
      "execution_count": 0,
      "outputs": []
    },
    {
      "metadata": {
        "id": "rftYzccjKYg1",
        "colab_type": "text"
      },
      "cell_type": "markdown",
      "source": [
        "**Sayama Exercise 11.5**:\n",
        "\n",
        "Implement an interactive parameter setter for p in Code 11.5. Then\n",
        "conduct systematic simulations with varying p, and identify its critical value below\n",
        "which isolated clusters are formed but above which the whole space is filled with\n",
        "panic."
      ]
    },
    {
      "metadata": {
        "id": "39OxHZf1KfX9",
        "colab_type": "code",
        "colab": {}
      },
      "cell_type": "code",
      "source": [
        "n = 100 # size of space: n x n\n",
        "p = 0.1 # probability of initially panicky individuals\n",
        "\n",
        "def initialize():\n",
        "    global config, nextconfig\n",
        "    config = zeros([n, n])\n",
        "    for x in range(n):\n",
        "        for y in range(n):\n",
        "            config[x, y] = 1 if random() < p else 0\n",
        "    nextconfig = zeros([n, n])\n",
        "    \n",
        "def observe():\n",
        "    global config, nextconfig\n",
        "    cla()\n",
        "    imshow(config, vmin = 0, vmax = 1, cmap = cm.binary)\n",
        "\n",
        "def update():\n",
        "    global config, nextconfig\n",
        "    for x in range(n):\n",
        "        for y in range(n):\n",
        "            count = 0\n",
        "            for dx in [-1, 0, 1]:\n",
        "                for dy in [-1, 0, 1]:\n",
        "                    count += config[(x + dx) % n, (y + dy) % n]\n",
        "            nextconfig[x, y] = 1 if count >= 4 else 0\n",
        "    config, nextconfig = nextconfig, config\n",
        "\n",
        "import pycxsimulator\n",
        "pycxsimulator.GUI().start(func=[initialize, observe, update])"
      ],
      "execution_count": 0,
      "outputs": []
    },
    {
      "metadata": {
        "id": "wyd8zwdLULse",
        "colab_type": "code",
        "outputId": "03277dbd-69c6-4d76-8504-341ababe26ac",
        "colab": {
          "base_uri": "https://localhost:8080/",
          "height": 381
        }
      },
      "cell_type": "code",
      "source": [
        "import numpy as np\n",
        "final_density=[]\n",
        "for p in np.linspace(0,1,100):\n",
        "    print(\"sim\")\n",
        "    initialize()\n",
        "    for step in range(200):\n",
        "        update()\n",
        "    final_density.append(sum(sum(config)))\n",
        "matplotlib.pyplot.plot(range(len(final_density)),final_density)\n",
        "\n",
        "for index,value in enumerate(final_density):\n",
        "    if value==n**2:\n",
        "        print((index-1)*0.01)\n",
        "        break\n",
        "        \n",
        "matplotlib.pyplot.plot(range(len(final_density)),final_density)"
      ],
      "execution_count": 0,
      "outputs": [
        {
          "output_type": "stream",
          "text": [
            "0.25\n"
          ],
          "name": "stdout"
        },
        {
          "output_type": "execute_result",
          "data": {
            "text/plain": [
              "[<matplotlib.lines.Line2D at 0x7f69b3ff7828>]"
            ]
          },
          "metadata": {
            "tags": []
          },
          "execution_count": 6
        },
        {
          "output_type": "display_data",
          "data": {
            "image/png": "[encoded data removed]",
            "text/plain": [
              "<Figure size 576x396 with 1 Axes>"
            ]
          },
          "metadata": {
            "tags": []
          }
        }
      ]
    }
  ]
}