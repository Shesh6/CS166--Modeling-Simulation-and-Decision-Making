{
  "nbformat": 4,
  "nbformat_minor": 0,
  "metadata": {
    "colab": {
      "name": "CS166PW31.ipynb",
      "version": "0.3.2",
      "provenance": [],
      "collapsed_sections": [
        "hTVvxOtCAJEv",
        "KmYZcFwiAect",
        "bHNwnVyQEA2x"
      ]
    },
    "kernelspec": {
      "name": "python3",
      "display_name": "Python 3"
    }
  },
  "cells": [
    {
      "metadata": {
        "id": "7cKWECNQ_xRX",
        "colab_type": "text"
      },
      "cell_type": "markdown",
      "source": [
        "### CS166 Pre-Class Work for Session 3.1\n",
        "\n",
        "## Mean-Field Approximation\n",
        "\n",
        "_Yoav Rabinovich, Jan 2019_\n",
        "\n",
        "-----------------"
      ]
    },
    {
      "metadata": {
        "id": "hTVvxOtCAJEv",
        "colab_type": "text"
      },
      "cell_type": "markdown",
      "source": [
        "#### **Sayama Exercise 11.8:**\n",
        "\n",
        "Host-pathogen CA with density chart:"
      ]
    },
    {
      "metadata": {
        "id": "j_buEsDqIAq2",
        "colab_type": "code",
        "colab": {}
      },
      "cell_type": "code",
      "source": [
        "import matplotlib.pyplot as plt\n",
        "import pylab as PL\n",
        "import random as RD\n",
        "import scipy as SP\n",
        "import numpy as np"
      ],
      "execution_count": 0,
      "outputs": []
    },
    {
      "metadata": {
        "id": "ccdJqiMd_u03",
        "colab_type": "code",
        "colab": {}
      },
      "cell_type": "code",
      "source": [
        "RD.seed()\n",
        "\n",
        "width = 50\n",
        "height = 50\n",
        "initProb = 0.01\n",
        "infectionRate = 0.5\n",
        "regrowthRate = 0.2\n",
        "\n",
        "def init():\n",
        "    global time, config, nextConfig, ratio\n",
        "\n",
        "    time = 0\n",
        "    ratio=[]\n",
        "    config = SP.zeros([height, width])\n",
        "    for x in range(width):\n",
        "        for y in range(height):\n",
        "            if RD.random() < initProb:\n",
        "                state = 2\n",
        "            else:\n",
        "                state = 1\n",
        "            config[y, x] = state\n",
        "\n",
        "    nextConfig = SP.zeros([height, width])\n",
        "\n",
        "def draw():\n",
        "    PL.cla()\n",
        "    plt.subplot(121)\n",
        "    PL.pcolor(config, vmin = 0, vmax = 2, cmap = PL.cm.jet)\n",
        "    PL.axis('image')\n",
        "    PL.title('t = ' + str(time))\n",
        "    plt.subplot(122)\n",
        "    if len(ratio)!=0:\n",
        "        plt.plot(range(len(ratio)),ratio)\n",
        "        \n",
        "\n",
        "def step():\n",
        "    global time, config, nextConfig, ratio\n",
        "\n",
        "    time += 1\n",
        "    healthy = 0\n",
        "    infected = 0\n",
        "    for x in range(width):\n",
        "        for y in range(height):\n",
        "            state = config[y, x]\n",
        "            if state == 0:\n",
        "                for dx in range(-1, 2):\n",
        "                    for dy in range(-1, 2):\n",
        "                        if config[(y+dy)%height, (x+dx)%width] == 1:\n",
        "                            if RD.random() < regrowthRate:\n",
        "                                state = 1\n",
        "                \n",
        "            elif state == 1:\n",
        "                healthy+=1\n",
        "                for dx in range(-1, 2):\n",
        "                    for dy in range(-1, 2):\n",
        "                        if config[(y+dy)%height, (x+dx)%width] == 2:\n",
        "                            if RD.random() < infectionRate:\n",
        "                                state = 2\n",
        "                                \n",
        "            else:\n",
        "                infected+=1\n",
        "                state = 0\n",
        "\n",
        "            nextConfig[y, x] = state\n",
        "    \n",
        "    ratio.append(healthy/infected)\n",
        "    config, nextConfig = nextConfig, config\n",
        "\n",
        "import pycxsimulator\n",
        "pycxsimulator.GUI().start(func=[init,draw,step])"
      ],
      "execution_count": 0,
      "outputs": []
    },
    {
      "metadata": {
        "id": "KmYZcFwiAect",
        "colab_type": "text"
      },
      "cell_type": "markdown",
      "source": [
        "#### Sayama Exercise 12.6:\n",
        "\n",
        "Confirm validity of probability distributions on table 12.1"
      ]
    },
    {
      "metadata": {
        "id": "rsuP0oKpBCy5",
        "colab_type": "text"
      },
      "cell_type": "markdown",
      "source": [
        "Since the term $\\binom{8}{k}p^k(1-p)^{(8-k)}$ is a probability distribution, it equals 1, therefore we have:\n",
        "\n",
        "$(1-p)5$, \\\\\n",
        "$(1-p)4$, \\\\\n",
        "$p*4$, \\\\\n",
        "$p*5$, \\\\\n",
        "\n",
        "The sum of which is 1."
      ]
    },
    {
      "metadata": {
        "id": "bHNwnVyQEA2x",
        "colab_type": "text"
      },
      "cell_type": "markdown",
      "source": [
        "#### Sayama Exercise 12.7:\n",
        "\n",
        "Apply mean-field approximation to the Game of Life 2-D CA\n",
        "model. Derive a difference equation for the average state density pt, and predict\n",
        "its asymptotic behavior."
      ]
    },
    {
      "metadata": {
        "id": "uAW8SePEGQBW",
        "colab_type": "text"
      },
      "cell_type": "markdown",
      "source": [
        "Game of life rules dictate that a cell stays alive if it has 2 or 3 live neighbors, and becomes alive if it has 3 neighbors. Adding up:\n",
        "\n",
        "$$p_{t+1} = p\\sum_{k=2}^3 {8\\choose k}p^k(1-p)^{8-k} + (1-p){8\\choose 3}p^3(1-p)^{8-3}$$\n",
        "$$={8\\choose 2}p^3(1-p)^{6} + {8\\choose 3}p^3(1-p)^{5}$$\n",
        "$$=28p^3(1-p)^{6} + 56p^3(1-p)^{5}$$\n",
        "$$28 p^9 - 224 p^8 + 700 p^7 - 1120 p^6 + 980 p^5 - 448 p^4 + 84 p^3$$\n",
        "\n",
        "Plotting a web plot:"
      ]
    },
    {
      "metadata": {
        "id": "Eqww-8L-Abuw",
        "colab_type": "code",
        "outputId": "6778143f-1eb6-496f-84dc-f42f44458d83",
        "colab": {
          "base_uri": "https://localhost:8080/",
          "height": 364
        }
      },
      "cell_type": "code",
      "source": [
        "p = np.linspace(0, 0.5, 50)\n",
        "plt.plot(p, p)\n",
        "plt.plot(p, 28*p**9 - 224*p**8 + 700*p**7 - 1120*p**6 + 980*p**5 - 448*p**4 + 84*p**3)"
      ],
      "execution_count": 0,
      "outputs": [
        {
          "output_type": "execute_result",
          "data": {
            "text/plain": [
              "[<matplotlib.lines.Line2D at 0x7f66c2113748>]"
            ]
          },
          "metadata": {
            "tags": []
          },
          "execution_count": 7
        },
        {
          "output_type": "display_data",
          "data": {
            "image/png": "[encoded data removed]",
            "text/plain": [
              "<Figure size 576x396 with 1 Axes>"
            ]
          },
          "metadata": {
            "tags": []
          }
        }
      ]
    },
    {
      "metadata": {
        "id": "9sUN0wEDEHSy",
        "colab_type": "text"
      },
      "cell_type": "markdown",
      "source": [
        "Manually tracing paths from initial conditions reveals that the stable equilibria are at 0 and ~0.375, which does not represent the fluctuations in density and sparse yet stable populations we see while simulating the game of life."
      ]
    }
  ]
}