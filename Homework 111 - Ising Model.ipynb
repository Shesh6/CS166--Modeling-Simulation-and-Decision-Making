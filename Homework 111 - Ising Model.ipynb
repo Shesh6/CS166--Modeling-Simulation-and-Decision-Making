{
  "nbformat": 4,
  "nbformat_minor": 0,
  "metadata": {
    "colab": {
      "name": "CS166PW111.ipynb",
      "version": "0.3.2",
      "provenance": []
    },
    "kernelspec": {
      "name": "python3",
      "display_name": "Python 3"
    }
  },
  "cells": [
    {
      "metadata": {
        "id": "9XTy4IzvbA9k",
        "colab_type": "text"
      },
      "cell_type": "markdown",
      "source": [
        "#### CS166 Pre-class Work for Session 11.1\n",
        "\n",
        "### Ising Model\n",
        "\n",
        "_Yoav Rabinovich, March 2019_\n",
        "\n",
        "_____________"
      ]
    },
    {
      "metadata": {
        "id": "KxysbmySbRkl",
        "colab_type": "text"
      },
      "cell_type": "markdown",
      "source": [
        "*Implement a simulation of the Ising model.*"
      ]
    },
    {
      "metadata": {
        "id": "w34CGlstbsdX",
        "colab_type": "code",
        "colab": {}
      },
      "cell_type": "code",
      "source": [
        "import numpy as np\n",
        "import matplotlib.pyplot as plt"
      ],
      "execution_count": 0,
      "outputs": []
    },
    {
      "metadata": {
        "id": "7udlz-Rfa7_W",
        "colab_type": "code",
        "colab": {}
      },
      "cell_type": "code",
      "source": [
        "class IsingSim():\n",
        "    \n",
        "    def __init__(self,size=10):\n",
        "        \n",
        "        self.size = size\n",
        "        self.randomize()\n",
        "        \n",
        "    def randomize(self):\n",
        "        self.state = np.random.choice([1,-1],(self.size,self.size))\n",
        "        \n",
        "    def step(self,T):\n",
        "        \n",
        "        i, j = np.random.choice(range(self.size), 2)\n",
        "        neighbors = [self.state[(i-1)%self.size, j],\n",
        "\t\t\t\t\t self.state[i, (j-1)%self.size],\n",
        "\t\t\t\t\t self.state[(i+1)%self.size, j],\n",
        "\t\t\t\t\t self.state[i, (j+1)%self.size]]\n",
        "        \n",
        "        E = -1*self.state[i,j]*sum(neighbors)\n",
        "        \n",
        "        if np.random.random() < min(1,np.exp(2*E/T)):\n",
        "            self.state[i,j] = -1*self.state[i,j]\n",
        "            \n",
        "    def simulate(self,T,runs,steps):\n",
        "        \n",
        "        avg_mags = []\n",
        "        for r in range(runs):\n",
        "            self.randomize()\n",
        "            for s in range(steps):\n",
        "                self.step(T)\n",
        "            avg_mag = sum(sum(self.state))/(self.size**2)\n",
        "            avg_mags.append(avg_mag)\n",
        "        \n",
        "        return avg_mags"
      ],
      "execution_count": 0,
      "outputs": []
    },
    {
      "metadata": {
        "id": "QqkBcSoZfxeM",
        "colab_type": "text"
      },
      "cell_type": "markdown",
      "source": [
        "*Run and observe the state of your simulation for temperatures T = 1, 2, 3, 4, 5. For each of the T values above, plot a histogram over the average magnetization of the final state*"
      ]
    },
    {
      "metadata": {
        "id": "5BqCUGvZb4iB",
        "colab_type": "code",
        "colab": {
          "base_uri": "https://localhost:8080/",
          "height": 269
        },
        "outputId": "830f3f5d-0342-4459-ef0f-44e3188def83"
      },
      "cell_type": "code",
      "source": [
        "size=10\n",
        "runs=100\n",
        "steps=100000\n",
        "\n",
        "plt.figure(figsize=(24,4))\n",
        "plt.title(\"Histograms of Final Average Magnetization for T=1,2,3,4,5\")\n",
        "\n",
        "sim = IsingSim(size)\n",
        "for temp in range(1,6):\n",
        "    results = sim.simulate(temp,runs,steps)\n",
        "    plt.subplot(1,5,temp)\n",
        "    plt.xlim(-1,1)\n",
        "    plt.ylim(0,runs)\n",
        "    plt.hist(results)\n",
        "    \n",
        "plt.show()"
      ],
      "execution_count": 12,
      "outputs": [
        {
          "output_type": "display_data",
          "data": {
            "image/png": "[encoded data removed]",
            "text/plain": [
              "<Figure size 1728x288 with 5 Axes>"
            ]
          },
          "metadata": {
            "tags": []
          }
        }
      ]
    }
  ]
}