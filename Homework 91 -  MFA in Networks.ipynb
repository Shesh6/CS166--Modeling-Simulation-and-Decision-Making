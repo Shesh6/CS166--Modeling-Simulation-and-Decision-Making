{
  "nbformat": 4,
  "nbformat_minor": 0,
  "metadata": {
    "colab": {
      "name": "CS166PW91.ipynb",
      "version": "0.3.2",
      "provenance": []
    },
    "kernelspec": {
      "name": "python3",
      "display_name": "Python 3"
    }
  },
  "cells": [
    {
      "metadata": {
        "id": "BDgQhSFTf2ZG",
        "colab_type": "text"
      },
      "cell_type": "markdown",
      "source": [
        "#### CS166 Pre-class Work for Session 9.1:\n",
        "\n",
        "### Mean Field Approximation in Networks\n",
        "\n",
        "_Yoav Rabinovich, March 2019_\n",
        "\n",
        "------------------"
      ]
    },
    {
      "metadata": {
        "id": "t07vPf05hKBR",
        "colab_type": "text"
      },
      "cell_type": "markdown",
      "source": [
        "#### Experimentally confirm the theoretical threshold for when an epidemic will persist in a random network"
      ]
    },
    {
      "metadata": {
        "id": "rctWYPYWgzoG",
        "colab_type": "text"
      },
      "cell_type": "markdown",
      "source": [
        "**Sayama Exercise 18.5:**\n",
        "\n",
        "_Modify Code 16.6 to implement a synchronous, simultaneous updating\n",
        "version of the network SIS model._"
      ]
    },
    {
      "metadata": {
        "id": "gaCOLYpX0IGX",
        "colab_type": "code",
        "colab": {}
      },
      "cell_type": "code",
      "source": [
        "import matplotlib\n",
        "from pylab import *\n",
        "import networkx as nx\n",
        "import random as rd"
      ],
      "execution_count": 0,
      "outputs": []
    },
    {
      "metadata": {
        "id": "Q3yMeWomee1h",
        "colab_type": "code",
        "colab": {}
      },
      "cell_type": "code",
      "source": [
        "matplotlib.use('TkAgg')\n",
        "\n",
        "n = 200\n",
        "p_e = 0.05\n",
        "p_i = 0.04\n",
        "p_r = 0.5\n",
        "\n",
        "def initialize():\n",
        "    global g\n",
        "    g = nx.karate_club_graph()\n",
        "    g.pos = nx.spring_layout(g)\n",
        "    for i in g.nodes:\n",
        "        g.nodes[i]['state'] = 1 if random() < p_e else 0\n",
        "\n",
        "def observe():\n",
        "    global g\n",
        "    cla()\n",
        "    nx.draw(g, vmin = 0, vmax = 1,\n",
        "        node_color = [g.nodes[i]['state'] for i in g.nodes],\n",
        "        pos = g.pos)\n",
        "\n",
        "def update():\n",
        "    global g\n",
        "    all_nodes = list(g.nodes)\n",
        "    \n",
        "    for node in all_nodes:\n",
        "        if g.nodes[node]['state'] == 0:\n",
        "            for neighbor in list(g.neighbors(node)):\n",
        "                if g.nodes[neighbor]['state'] == 1:\n",
        "                    g.nodes[node]['state'] = 1 if random() < p_i else 0\n",
        "        else:\n",
        "            g.nodes[node]['state'] = 0 if random() < p_r else 1\n",
        "\n",
        "import pycxsimulator\n",
        "pycxsimulator.GUI().start(func=[initialize, observe, update])"
      ],
      "execution_count": 0,
      "outputs": []
    },
    {
      "metadata": {
        "id": "lqqyf0MIg_I_",
        "colab_type": "text"
      },
      "cell_type": "markdown",
      "source": [
        "*Simulate its dynamics on an Erdos-Renyi random network for the following parameter settings:*\n",
        "- n = 100, pe = 0.1, pi = 0.5, pr = 0.5\n",
        "- n = 100, pe = 0.1, pi = 0.04, pr = 0.5\n",
        "- n = 200, pe = 0.1, pi = 0.04, pr = 0.5\n",
        "- n = 200, pe = 0.05, pi = 0.04, pr = 0.5\n",
        "\n",
        "*Discuss how the results compare to the predictions made by the mean-field approximation.*"
      ]
    },
    {
      "metadata": {
        "id": "QASTdP3ej8RG",
        "colab_type": "text"
      },
      "cell_type": "markdown",
      "source": [
        "In cases 1,2 and 4, the infection behaves as the MFA predicts (lives, dies and dies respectively). However, in the thirds case, even though the number of nodes increases, the infection still dies out."
      ]
    },
    {
      "metadata": {
        "id": "hSdniPH7kdG2",
        "colab_type": "text"
      },
      "cell_type": "markdown",
      "source": [
        "##### Question:\n",
        "*Why does using synchronous or asynchronous updating make a\n",
        "difference?*"
      ]
    },
    {
      "metadata": {
        "id": "BZyG91NolXIb",
        "colab_type": "text"
      },
      "cell_type": "markdown",
      "source": [
        "In asynchronous updates, our assumption that under that same conditions similar nodes will react similarly doesn't hold, because within one time step, similar nodes can become dissimilar depending on their order in the update."
      ]
    },
    {
      "metadata": {
        "id": "FFFX-E8SlRgH",
        "colab_type": "text"
      },
      "cell_type": "markdown",
      "source": [
        "##### Question: \n",
        "*For the mean field approximation described in Section 18.5, why is it\n",
        "appropriate to use the synchronous update method and not the asynchronous\n",
        "one?*"
      ]
    },
    {
      "metadata": {
        "id": "WCx6NbzTlV_E",
        "colab_type": "text"
      },
      "cell_type": "markdown",
      "source": [
        "As described above, it fits the assumptions we've made when doing the mean field appeoximation analysis."
      ]
    },
    {
      "metadata": {
        "id": "TPhxBE-nl--N",
        "colab_type": "text"
      },
      "cell_type": "markdown",
      "source": [
        "#### Experimentally confirm the “your friends have more friends than you do” observation"
      ]
    },
    {
      "metadata": {
        "id": "gMA487rpmbCJ",
        "colab_type": "text"
      },
      "cell_type": "markdown",
      "source": [
        "*Generate a random network with 1000 nodes and (approximately) 20,000 edges,\n",
        "so that the average degree of a node is 40.*"
      ]
    },
    {
      "metadata": {
        "id": "qhrODuJumrDa",
        "colab_type": "code",
        "colab": {}
      },
      "cell_type": "code",
      "source": [
        "er = nx.erdos_renyi_graph(1000, 0.04)\n",
        "ws = nx.watts_strogatz_graph(1000,40,0.1)\n",
        "ba = nx.barabasi_albert_graph(1000,20)"
      ],
      "execution_count": 0,
      "outputs": []
    },
    {
      "metadata": {
        "id": "cAQOHCzNmCMn",
        "colab_type": "text"
      },
      "cell_type": "markdown",
      "source": [
        "*Write code to compute the average degree of a graph*"
      ]
    },
    {
      "metadata": {
        "id": "LpI-d8CFflRV",
        "colab_type": "code",
        "colab": {}
      },
      "cell_type": "code",
      "source": [
        "def exp_k(g):\n",
        "    n = len(g.nodes())\n",
        "    e = len(list(g.edges))\n",
        "    print (\"Total edges: \", e)\n",
        "    k = e * 2/ n\n",
        "    print (\"Average degree: \", k)\n",
        "    return k"
      ],
      "execution_count": 0,
      "outputs": []
    },
    {
      "metadata": {
        "id": "ta8l-FrFmT9J",
        "colab_type": "text"
      },
      "cell_type": "markdown",
      "source": [
        "*Write code to compute the average degree of each neighbor in a graph*"
      ]
    },
    {
      "metadata": {
        "id": "CCGJ2w_Vfnml",
        "colab_type": "code",
        "colab": {}
      },
      "cell_type": "code",
      "source": [
        "def exp_k_prime(g):\n",
        "    node = 0\n",
        "    deg = 0\n",
        "    for edge in g.edges():\n",
        "        for neighbor in edge:\n",
        "            deg += len(g.edges(neighbor))\n",
        "            node += 1\n",
        "    k_p = deg/node\n",
        "    print (\"Average neighbor degree: \", k_p)\n",
        "    return k_p"
      ],
      "execution_count": 0,
      "outputs": []
    },
    {
      "metadata": {
        "id": "WiBVEeKGmur-",
        "colab_type": "text"
      },
      "cell_type": "markdown",
      "source": [
        "Question:\n",
        "*How does the average degree of neighbors compare to the average degree of the graph?*"
      ]
    },
    {
      "metadata": {
        "id": "KArjhfvBm1pe",
        "colab_type": "code",
        "colab": {
          "base_uri": "https://localhost:8080/",
          "height": 269
        },
        "outputId": "29b71e33-b085-4716-cb90-9c050b709fa3"
      },
      "cell_type": "code",
      "source": [
        "print(\"ER:\")\n",
        "erk=exp_k(er)\n",
        "erkp=exp_k_prime(er)\n",
        "print(\"ratio: \"+str(erkp/erk))\n",
        "print(\"WS:\")\n",
        "wsk=exp_k(ws)\n",
        "wskp=exp_k_prime(ws)\n",
        "print(\"ratio: \"+str(wskp/wsk))\n",
        "print(\"BA:\")\n",
        "bak=exp_k(ba)\n",
        "bakp=exp_k_prime(ba)\n",
        "print(\"ratio: \"+str(bakp/bak))"
      ],
      "execution_count": 22,
      "outputs": [
        {
          "output_type": "stream",
          "text": [
            "ER:\n",
            "Total edges:  20098\n",
            "Average degree:  40.196\n",
            "Average neighbor degree:  41.21345407503234\n",
            "ratio: 1.0253123215004563\n",
            "WS:\n",
            "Total edges:  20000\n",
            "Average degree:  40.0\n",
            "Average neighbor degree:  40.1002\n",
            "ratio: 1.002505\n",
            "BA:\n",
            "Total edges:  19600\n",
            "Average degree:  39.2\n",
            "Average neighbor degree:  60.775510204081634\n",
            "ratio: 1.5503956684714701\n"
          ],
          "name": "stdout"
        }
      ]
    }
  ]
}
