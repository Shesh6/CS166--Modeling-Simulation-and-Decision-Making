{
  "nbformat": 4,
  "nbformat_minor": 0,
  "metadata": {
    "colab": {
      "name": "CS166PW122.ipynb",
      "version": "0.3.2",
      "provenance": []
    },
    "kernelspec": {
      "name": "python3",
      "display_name": "Python 3"
    }
  },
  "cells": [
    {
      "metadata": {
        "id": "7qNNgXQWvYNf",
        "colab_type": "text"
      },
      "cell_type": "markdown",
      "source": [
        "#### CS166 Pre-class Work for Session 12.2:\n",
        "\n",
        "### MCMC Ising Model\n",
        "\n",
        "_Yoav Rabinovich, April 2019_\n",
        "\n",
        "_______________________"
      ]
    },
    {
      "metadata": {
        "id": "-pTertZM0jxq",
        "colab_type": "text"
      },
      "cell_type": "markdown",
      "source": [
        "#### Model"
      ]
    },
    {
      "metadata": {
        "id": "9zdcuzkavVhc",
        "colab_type": "code",
        "colab": {}
      },
      "cell_type": "code",
      "source": [
        "import scipy\n",
        "from matplotlib import pyplot as plt\n",
        "\n",
        "class IsingSimulation:\n",
        "\n",
        "    J = 6.34369e-21  # Interaction constant for iron [Joule]\n",
        "    kB = 1.38065e-23  # Boltzmann constant [Joule / Kelvin]\n",
        "\n",
        "    def __init__(self, size, temperature=300):\n",
        "        '''\n",
        "        Create a new Ising model simulation. The state is initialized\n",
        "        randomly.\n",
        "\n",
        "        Arguments:\n",
        "\n",
        "            size (int) The number of cells along each dimension of the\n",
        "              square grid.\n",
        "\n",
        "            temperature (float) The temperature in Kelvin at which to\n",
        "              run the simulation. The Curie temperature for iron is\n",
        "              1043 K. Room temperature is about 300 K. Default: 300.\n",
        "        '''\n",
        "        self.size = size\n",
        "        self.temperature = temperature\n",
        "        self.state = scipy.random.choice(\n",
        "            [-1, +1], size=(self.size, self.size))\n",
        "        self.step = 0\n",
        "\n",
        "    def set_temperature(self, temp):\n",
        "        '''\n",
        "        Set the temperature of the model in Kelvin.\n",
        "        '''\n",
        "        self.temperature = float(temp)\n",
        "\n",
        "    def energy(self):\n",
        "        '''\n",
        "        Compute the energy of the current state of the model.\n",
        "        '''\n",
        "        return -self.J * (self.state * (\n",
        "            scipy.roll(self.state, 1, axis=0) +\n",
        "            scipy.roll(self.state, 1, axis=1))).sum()\n",
        "\n",
        "    def average_magnetism(self):\n",
        "        '''\n",
        "        Compute the average per-cell magnetism of the current state\n",
        "        of the model.\n",
        "        '''\n",
        "        return self.state.mean()\n",
        "\n",
        "    def update(self):\n",
        "        '''\n",
        "        Do a single cell update of the model state.\n",
        "        '''\n",
        "        # Pick a random cell to flip\n",
        "        i, j = scipy.random.randint(self.size, size=2)\n",
        "\n",
        "        # Change in energy from current state to next state\n",
        "        delta_E = 2 * self.J * self.state[i,j] * (\n",
        "            self.state[(i + 1) % self.size, j] +\n",
        "            self.state[(i - 1) % self.size, j] +\n",
        "            self.state[i, (j + 1) % self.size] +\n",
        "            self.state[i, (j - 1) % self.size])\n",
        "\n",
        "        # Log probability of changing state\n",
        "        log_p = -delta_E / (self.temperature * self.kB)\n",
        "        if scipy.log(scipy.random.uniform(0, 1)) < log_p:\n",
        "            self.state[i,j] = -self.state[i,j]\n",
        "\n",
        "        self.step += 1\n",
        "\n",
        "    def display(self):\n",
        "        '''\n",
        "        Plot the state of the model.\n",
        "        '''\n",
        "        plt.figure()\n",
        "        plt.imshow(self.state, vmin=-1, vmax=+1)\n",
        "        plt.title('Step: ' + str(self.step) + ', M = ' + str(self.average_magnetism()))"
      ],
      "execution_count": 0,
      "outputs": []
    },
    {
      "metadata": {
        "id": "IsQhVxUFv45M",
        "colab_type": "text"
      },
      "cell_type": "markdown",
      "source": [
        "#### Task 1: Boltzman Approximation\n",
        "\n",
        "_We know that the Boltzmann distribution tells us what the probability is of\n",
        "observing a state at equilibrium. At low temperatures, we expect the states where all cells have the\n",
        "same sign (either all + or all – ) to be much more probable than any other state. So if we start from\n",
        "a random initial state, we should drop into one of those two states eventually._\n",
        "\n",
        "_Test whether this indeed happens._\n"
      ]
    },
    {
      "metadata": {
        "id": "Qx2brONNvZzK",
        "colab_type": "code",
        "colab": {}
      },
      "cell_type": "code",
      "source": [
        "size = 20\n",
        "trials = 100\n",
        "steps = 100000\n",
        "\n",
        "magnetizations = []\n",
        "for i in range(trials):\n",
        "    sim = IsingSimulation(size, temperature=1)\n",
        "    for _ in range(steps):\n",
        "        sim.update()\n",
        "    magnetizations.append(sim.average_magnetism())"
      ],
      "execution_count": 0,
      "outputs": []
    },
    {
      "metadata": {
        "id": "9wMczUmIw-bA",
        "colab_type": "text"
      },
      "cell_type": "markdown",
      "source": [
        "#### Task 2: Simulated Annealing\n",
        "\n",
        "_Start from a random initial state, as before, but rather than setting the temperature to 1 K\n",
        "straight away, start from T = 2000 K and decrease it by 1 K after every 100 update steps\n",
        "until you reach a value of T = 1 K. Wait for the simulation state to stabilize._\n",
        "\n",
        "_What is the distribution over average magnetization now?_"
      ]
    },
    {
      "metadata": {
        "id": "eEKuILF5wzsf",
        "colab_type": "code",
        "colab": {}
      },
      "cell_type": "code",
      "source": [
        "magnetizations_annealing = []\n",
        "temp = 2000\n",
        "for i in range(trials):\n",
        "    sim = IsingSimulation(size, temperature=temp)\n",
        "    for s in range(steps):\n",
        "        if sim.temperature <= 1:\n",
        "            sim.temperature=1\n",
        "        sim.update()\n",
        "        if s%50==0:\n",
        "            sim.temperature -= 1\n",
        "    magnetizations_annealing.append(sim.average_magnetism())"
      ],
      "execution_count": 0,
      "outputs": []
    },
    {
      "metadata": {
        "id": "Jrs00J6TzivJ",
        "colab_type": "text"
      },
      "cell_type": "markdown",
      "source": [
        "#### Comparison"
      ]
    },
    {
      "metadata": {
        "id": "-y1dBOtJxuSJ",
        "colab_type": "code",
        "outputId": "89710ee0-5c20-40a0-a09c-483d2083ed02",
        "colab": {
          "base_uri": "https://localhost:8080/",
          "height": 294
        }
      },
      "cell_type": "code",
      "source": [
        "plt.figure(figsize=(12,4))\n",
        "plt.suptitle(\"Distributions of Average Final Magnetization\")\n",
        "plt.subplot(1,2,1)\n",
        "plt.title(\"Without Annealing\")\n",
        "plt.hist(magnetizations, bins=10, density=True)\n",
        "plt.xlim(-1,1)\n",
        "plt.subplot(1,2,2)\n",
        "plt.title(\"With Annealing\")\n",
        "plt.hist(magnetizations_annealing, bins=10, density=True)\n",
        "plt.xlim(-1,1)\n",
        "plt.show()"
      ],
      "execution_count": 0,
      "outputs": [
        {
          "output_type": "display_data",
          "data": {
            "image/png": "[encoded data removed]",
            "text/plain": [
              "<Figure size 864x288 with 2 Axes>"
            ]
          },
          "metadata": {
            "tags": []
          }
        }
      ]
    }
  ]
}
