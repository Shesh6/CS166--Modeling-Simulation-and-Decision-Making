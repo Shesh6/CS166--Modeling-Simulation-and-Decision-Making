{
  "nbformat": 4,
  "nbformat_minor": 0,
  "metadata": {
    "colab": {
      "name": "CS166PW62.ipynb",
      "version": "0.3.2",
      "provenance": []
    },
    "kernelspec": {
      "name": "python3",
      "display_name": "Python 3"
    }
  },
  "cells": [
    {
      "metadata": {
        "id": "52vUxU7CUv3j",
        "colab_type": "text"
      },
      "cell_type": "markdown",
      "source": [
        "#### CS166 Pre-class Work for Session 6.2:\n",
        "\n",
        "### Dynamical Networks\n",
        "\n",
        "_Yoav Rabinovich, February 2019_\n",
        "\n",
        "---------------------"
      ]
    },
    {
      "metadata": {
        "id": "EXchyhqQU6k8",
        "colab_type": "text"
      },
      "cell_type": "markdown",
      "source": [
        "#### Sayama Exercise 16.2:\n",
        "\n",
        "_Revise the code above so that you can measure how many\n",
        "steps it will take until the system reaches a consensus (i.e., homogenized state). Then\n",
        "run multiple simulations (Monte Carlo simulations) to calculate the average time length\n",
        "needed for consensus formation in the original voter model._\n"
      ]
    },
    {
      "metadata": {
        "id": "uRBfY_avdDuF",
        "colab_type": "code",
        "colab": {}
      },
      "cell_type": "code",
      "source": [
        "# Import results (50 runs)\n",
        "counts = [1306, 920, 958, 182, 604, 517, 551, 979, 219, 96, 651, 238, 237, 235, 356, 287, 112, 1128, 385, 649, 250, 114, 1004, 2664, 160, 306, 217, 753, 1203, 299, 497, 313, 428, 1334, 1184, 1207, 302, 225, 522, 604, 277, 176, 449, 137, 699, 278, 181, 739, 183, 273]"
      ],
      "execution_count": 0,
      "outputs": []
    },
    {
      "metadata": {
        "id": "OqWpKDTDdurc",
        "colab_type": "code",
        "outputId": "0e3200b9-36b9-4a8f-cea6-8d4a3887604c",
        "colab": {
          "base_uri": "https://localhost:8080/",
          "height": 34
        }
      },
      "cell_type": "code",
      "source": [
        "print(\"Average step count to homogeneity: \"+str(sum(counts)/len(counts)))"
      ],
      "execution_count": 0,
      "outputs": [
        {
          "output_type": "stream",
          "text": [
            "Average step count to homogeneity: 551.76\n"
          ],
          "name": "stdout"
        }
      ]
    },
    {
      "metadata": {
        "id": "bmjLDgSlVFqG",
        "colab_type": "text"
      },
      "cell_type": "markdown",
      "source": [
        "#### Sayama Exercise 16.3:\n",
        "\n",
        "_Revise the code further to implement (1) the reversed and (2)\n",
        "the edge­based voter models. Then conduct Monte Carlo simulations to measure the\n",
        "average time length needed for consensus formation in each case. Compare the results\n",
        "between the three versions._\n"
      ]
    },
    {
      "metadata": {
        "id": "H0nU25NJVJNb",
        "colab_type": "code",
        "colab": {}
      },
      "cell_type": "code",
      "source": [
        "# Import results (50 runs)\n",
        "original_counts = [1022, 611, 752, 268, 447, 587, 269, 484, 1261, 510, 538, 186, 511, 1573, 737, 683, 210, 531, 630, 311, 135, 315, 220, 317, 153, 938, 317, 656, 1175, 691, 514, 2118, 1289, 550, 1067, 461, 1188, 314, 303, 771, 629, 221, 991, 218, 119, 1231, 230, 1002, 321, 630]\n",
        "reversed_count = [2231, 3518, 3158, 1557, 8211, 5254, 721, 5586, 8363, 2326, 4107, 1021, 1363, 1224, 1441, 14775, 1786, 1596, 3134, 726, 2308, 413, 1654, 3114, 10006, 2371, 5363, 1241, 2573, 1854, 2592, 1802, 1168, 2546, 2044, 910, 1872, 12723, 3478, 3152, 1500, 1133, 9499, 1530, 2491, 2607, 2339, 4158, 10344, 2010]\n",
        "edgebased_counts = [2080, 1153, 1306, 1686, 532, 2141, 1956, 161, 337, 1694, 1213, 776, 312, 704, 2399, 793, 166, 1503, 626, 524, 1237, 275, 824, 823, 661, 3154, 820, 725, 385, 412, 1325, 416, 2048, 319, 1189, 566, 5124, 754, 910, 1870, 1050, 444, 245, 3345, 633, 2504, 1001, 667, 788, 631]"
      ],
      "execution_count": 0,
      "outputs": []
    },
    {
      "metadata": {
        "id": "q6XeH657hfQs",
        "colab_type": "code",
        "outputId": "3f5c3ba8-e103-4a44-f069-30bcf8ac0d4b",
        "colab": {
          "base_uri": "https://localhost:8080/",
          "height": 84
        }
      },
      "cell_type": "code",
      "source": [
        "print(\"Average step count to homogeneity\")\n",
        "print(\"Original: \"+str(sum(original_counts)/len(original_counts)))\n",
        "print(\"Edge-based: \"+str(sum(edgebased_counts)/len(edgebased_counts)))\n",
        "print(\"Reversed: \"+str(sum(reversed_count)/len(reversed_count)))"
      ],
      "execution_count": 0,
      "outputs": [
        {
          "output_type": "stream",
          "text": [
            "Average step count to homogeneity\n",
            "Original: 624.1\n",
            "Edge-based: 1144.14\n",
            "Reversed: 3457.86\n"
          ],
          "name": "stdout"
        }
      ]
    },
    {
      "metadata": {
        "id": "p0cT9IACeHim",
        "colab_type": "text"
      },
      "cell_type": "markdown",
      "source": [
        "#### PyCSx Code:"
      ]
    },
    {
      "metadata": {
        "id": "Td4pkBtiUtYq",
        "colab_type": "code",
        "colab": {}
      },
      "cell_type": "code",
      "source": [
        "import matplotlib\n",
        "matplotlib.use('TkAgg')\n",
        "from pylab import *\n",
        "import networkx as nx\n",
        "import random as rd\n",
        "import sys\n",
        "\n",
        "counts=[]\n",
        "runs=5\n",
        "\n",
        "def initialize():\n",
        "    global g, step_count,runs\n",
        "    if runs>0:\n",
        "        runs-=1\n",
        "    else:\n",
        "        sys.exit()\n",
        "    step_count=0\n",
        "    g = nx.karate_club_graph()\n",
        "    g.pos = nx.spring_layout(g)\n",
        "    for i in g.nodes:\n",
        "        g.nodes[i]['state'] = 1 if random() < .5 else 0\n",
        "\n",
        "def observe():\n",
        "    global g\n",
        "    cla()\n",
        "    nx.draw(g, vmin = 0, vmax = 1,\n",
        "            node_color = [g.nodes[i]['state'] for i in g.nodes],\n",
        "            pos = g.pos)\n",
        "\n",
        "def update():\n",
        "    global g, step_count\n",
        "    homogenous = True\n",
        "    con_state = g.nodes[0]['state']\n",
        "    for i in g.nodes:\n",
        "        if g.nodes[i]['state']!=con_state:\n",
        "            homogenous = False\n",
        "            break\n",
        "    if homogenous:\n",
        "        counts.append(step_count)\n",
        "        print(\"done! \" +str(step_count))\n",
        "        initialize()\n",
        "    listener = rd.choice(list(g.nodes))\n",
        "    speaker = rd.choice(list(g.neighbors(listener)))\n",
        "    g.nodes[listener]['state'] = g.nodes[speaker]['state']\n",
        "    step_count+=1\n",
        "\n",
        "import pycxsimulator\n",
        "pycxsimulator.GUI().start(func=[initialize, observe, update])\n"
      ],
      "execution_count": 0,
      "outputs": []
    }
  ]
}
