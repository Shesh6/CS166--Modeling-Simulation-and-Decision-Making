{
  "nbformat": 4,
  "nbformat_minor": 0,
  "metadata": {
    "colab": {
      "name": "CS166PW121.ipynb",
      "version": "0.3.2",
      "provenance": [],
      "collapsed_sections": []
    },
    "kernelspec": {
      "name": "python3",
      "display_name": "Python 3"
    }
  },
  "cells": [
    {
      "metadata": {
        "id": "eDoeClJe8xc4",
        "colab_type": "text"
      },
      "cell_type": "markdown",
      "source": [
        "#### CS166 Pre-Class Work for Session 12.1:\n",
        "\n",
        "### The Metropolis-Hastings Method\n",
        "\n",
        "_Yoav Rabinovich, March 2019_\n",
        "\n",
        "---------"
      ]
    },
    {
      "metadata": {
        "id": "ZcmZ2J4j8rnX",
        "colab_type": "text"
      },
      "cell_type": "markdown",
      "source": [
        "*Implement a Metropolis-Hastings algorithm to draw\n",
        "samples from the Batman distribution*"
      ]
    },
    {
      "metadata": {
        "id": "3Kro6HqR8kpn",
        "colab_type": "code",
        "colab": {}
      },
      "cell_type": "code",
      "source": [
        "import numpy as np\n",
        "import matplotlib.pyplot as plt\n",
        "%matplotlib inline"
      ],
      "execution_count": 0,
      "outputs": []
    },
    {
      "metadata": {
        "id": "Y5M7VXzZ9Mrd",
        "colab_type": "code",
        "colab": {}
      },
      "cell_type": "code",
      "source": [
        "# Batman Distribution\n",
        "def f(x):\n",
        "    Z = 24.44321494051954\n",
        "    if abs(x) > 7:\n",
        "        return 0\n",
        "    elif abs(x) > 3:\n",
        "        return 3 * (1 - (x / 7) ** 2) ** 0.5 / Z\n",
        "    elif abs(x) > 1:\n",
        "        return ((3 - abs(x)) / 2 - 3/7 * 10**0.5 * ((3 - x**2 + 2*abs(x))**0.5 - 2)) / Z\n",
        "    elif abs(x) > 0.75:\n",
        "        return (9 - 8 * abs(x)) / Z\n",
        "    elif abs(x) > 0.5:\n",
        "        return (3 * abs(x) + 0.75) / Z\n",
        "    else:\n",
        "        return 2.25 / Z\n"
      ],
      "execution_count": 0,
      "outputs": []
    },
    {
      "metadata": {
        "id": "Nscve_8T9MQv",
        "colab_type": "code",
        "colab": {}
      },
      "cell_type": "code",
      "source": [
        "class MH():\n",
        "    \n",
        "    def __init__(self,f,g=np.random.normal,lim=10):\n",
        "        self.f = f\n",
        "        self.g = g\n",
        "        # Problem 1: How to draw initial state, not specified in readings\n",
        "        self.lim = lim\n",
        "        self.reset()\n",
        "        \n",
        "    def reset(self):\n",
        "        self.state = np.random.uniform(0.00001,self.lim)\n",
        "        self.record = []\n",
        "        \n",
        "    def step(self):\n",
        "        # Problem 2: Specifying std for default g, in a way that doesn't break with custom g\n",
        "        proposed = self.g(loc=self.state,scale=2)\n",
        "        # Problem 3: Avoiding division by zero more elegantly\n",
        "        if self.state == 0:\n",
        "            self.state = np.random.uniform(0.00001,self.lim)\n",
        "        decision = min(1,self.f(proposed)/self.f(self.state))\n",
        "        if np.random.uniform(0,1)<decision:\n",
        "            self.state = proposed\n",
        "            \n",
        "    def observe(self):\n",
        "        plt.figure(figsize=(16,7))\n",
        "        plt.hist(self.record,bins=len(self.record)//100)\n",
        "        plt.show()\n",
        "    \n",
        "    def simulate(self,steps,record=100):\n",
        "        self.reset()\n",
        "        for i in range(steps):\n",
        "            self.step()\n",
        "            if record and i%record==0:\n",
        "                self.record.append(self.state)\n",
        "                \n",
        "    def draw(self,steps=100000):\n",
        "        self.simulate(steps=steps,record=None)\n",
        "        return self.state\n",
        "                "
      ],
      "execution_count": 0,
      "outputs": []
    },
    {
      "metadata": {
        "id": "vaNB745g91vV",
        "colab_type": "code",
        "outputId": "221e1765-799a-4019-f008-13e136dc4c8d",
        "colab": {
          "base_uri": "https://localhost:8080/",
          "height": 428
        }
      },
      "cell_type": "code",
      "source": [
        "sim = MH(f)\n",
        "sim.simulate(1000000,record=10)\n",
        "sim.observe()"
      ],
      "execution_count": 0,
      "outputs": [
        {
          "output_type": "display_data",
          "data": {
            "image/png": "iVBORw0KGgoAAAANSUhEUgAAA6MAAAGbCAYAAAAx0Eb1AAAABHNCSVQICAgIfAhkiAAAAAlwSFlz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\nJ4wCAADQnDAKAABAc/8fx52rV3SVYjMAAAAASUVORK5CYII=\n",
            "text/plain": [
              "<Figure size 1152x504 with 1 Axes>"
            ]
          },
          "metadata": {
            "tags": []
          }
        }
      ]
    },
  ]
}
