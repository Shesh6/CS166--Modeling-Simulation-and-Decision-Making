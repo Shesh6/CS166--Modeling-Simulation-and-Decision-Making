{
  "nbformat": 4,
  "nbformat_minor": 0,
  "metadata": {
    "colab": {
      "name": "CS166PW102.ipynb",
      "version": "0.3.2",
      "provenance": [],
      "collapsed_sections": []
    },
    "kernelspec": {
      "name": "python3",
      "display_name": "Python 3"
    }
  },
  "cells": [
    {
      "metadata": {
        "id": "9ORm05ZNJ3T5",
        "colab_type": "text"
      },
      "cell_type": "markdown",
      "source": [
        "#### CS166 Pre-class Work for Session 10.2:\n",
        "\n",
        "### Probability Distributions and Sampling\n",
        "\n",
        "_Yoav Rabinovich, March 2019_\n",
        "\n",
        "__________________________"
      ]
    },
    {
      "metadata": {
        "id": "-cgw9KX6KCdY",
        "colab_type": "text"
      },
      "cell_type": "markdown",
      "source": [
        "#### Shonkwiler Exercise 2.14: Sampling bias for bus waiting times\n",
        "\n",
        "*Suppose the interarrival time\n",
        "for a city bus has an exponential distribution with parameter 1/λ. A passenger\n",
        "arrives at a uniformly random time and records the time until the\n",
        "next bus arrives. What is the expected waiting time? Use a simulation to\n",
        "get an answer. Is the answer surprising? Now suppose instead that the\n",
        "interarrival time is U(0, 2λ). How does this change the situation? (Notice\n",
        "that the expected interarrival time is λ in both cases.)*\n",
        "\n"
      ]
    },
    {
      "metadata": {
        "id": "ZBzZXeFUKaCu",
        "colab_type": "text"
      },
      "cell_type": "markdown",
      "source": [
        "Since the exponential distribution is memoryless, the passenger's arrival time doesn't factor in and the expected arrival time is the mean of the distribution, 1/λ.  This is confirmed by my simulation below.\n",
        "\n",
        "For a uniform distribution, the passenger's wait time is a difference between two independent variables from uniform distributions, buss arrival and passenger arrival. According to the simulation below, the wait time corresponds to 2λ/3."
      ]
    },
    {
      "metadata": {
        "id": "6BW0XrNMJ1YI",
        "colab_type": "code",
        "outputId": "c635202f-0fa0-40da-ccd7-bcbd29178749",
        "colab": {
          "base_uri": "https://localhost:8080/",
          "height": 50
        }
      },
      "cell_type": "code",
      "source": [
        "import numpy as np\n",
        "\n",
        "trials = 100000\n",
        "busses= 100000\n",
        "lamb = 1\n",
        "\n",
        "interarrival_times_exp = np.cumsum(np.random.exponential(1/lamb,busses))\n",
        "observed_times_exp = []\n",
        "for i in range(trials):\n",
        "    passenger_arrival_time = np.random.uniform(0, interarrival_times_exp[-1])\n",
        "    arrived_after = interarrival_times_exp.searchsorted(passenger_arrival_time)\n",
        "    wait_time = interarrival_times_exp[arrived_after]-passenger_arrival_time\n",
        "    observed_times_exp.append(wait_time)\n",
        "    \n",
        "print(\"Average wait time with exponential distribution: \"+str(np.mean(observed_times_exp)))\n",
        "\n",
        "interarrival_times_uni = np.cumsum(np.random.uniform(0,2*lamb,busses))\n",
        "observed_times_uni = []\n",
        "for i in range(trials):\n",
        "    passenger_arrival_time = np.random.uniform(0, interarrival_times_uni[-1])\n",
        "    arrived_after = interarrival_times_uni.searchsorted(passenger_arrival_time)\n",
        "    wait_time = interarrival_times_uni[arrived_after]-passenger_arrival_time\n",
        "    observed_times_uni.append(wait_time)\n",
        "    \n",
        "print(\"Average wait time with uniform distribution: \"+str(np.mean(observed_times_uni)))"
      ],
      "execution_count": 0,
      "outputs": [
        {
          "output_type": "stream",
          "text": [
            "Average wait time with exponential distribution: 0.9951413753393156\n",
            "Average wait time with uniform distribution: 0.663150510036344\n"
          ],
          "name": "stdout"
        }
      ]
    },
    {
      "metadata": {
        "id": "TvzR24X2gtQL",
        "colab_type": "text"
      },
      "cell_type": "markdown",
      "source": [
        "#### Shonkweiler Exercise 2.24: Retirement benefit projection\n",
        "\n",
        "*At age 50 Fannie Mae has \\$150,000\n",
        "invested and will be investing another \\$10,000 per year until age 70. Each\n",
        "year the investment grows according to an interest rate that is normally\n",
        "distributed with mean 8% and standard deviation 9%. At age 70, Fannie\n",
        "Mae then retires and withdraws $65,000 per year until death. Below is\n",
        "given a conditional death probability table. Thus if Fannie Mae lives until\n",
        "age 70, then the probability of dying before age 71 is 0.04979. Simulate\n",
        "this process 1000 times and histogram the amount of money Fannie Mae\n",
        "has at death.*"
      ]
    },
    {
      "metadata": {
        "id": "4EVGNn3KOIa5",
        "colab_type": "code",
        "colab": {}
      },
      "cell_type": "code",
      "source": [
        "data = {\n",
        "50: 0.00832, 51: 0.00911, 52: 0.00996, 53: 0.01089, 54: 0.01190,\n",
        "55: 0.01300, 56: 0.01421, 57: 0.01554, 58: 0.01700, 59: 0.01859,\n",
        "60: 0.02034, 61: 0.02224, 62: 0.02431, 63: 0.02657, 64: 0.02904,\n",
        "65: 0.03175, 66: 0.03474, 67: 0.03804, 68: 0.04168, 69: 0.04561,\n",
        "70: 0.04979, 71: 0.05415, 72: 0.05865, 73: 0.06326, 74: 0.0inv6812,\n",
        "75: 0.07337, 76: 0.07918, 77: 0.08570, 78: 0.09306, 79: 0.10119,\n",
        "80: 0.10998, 81: 0.11935, 82: 0.12917, 83: 0.13938, 84: 0.15001,\n",
        "85: 0.16114, 86: 0.17282, 87: 0.18513, 88: 0.19825, 89: 0.21246,\n",
        "90: 0.22814, 91: 0.24577, 92: 0.26593, 93: 0.28930, 94: 0.31666,\n",
        "95: 0.35124, 96: 0.40056, 97: 0.48842, 98: 0.66815, 99: 0.72000,\n",
        "100: 0.76000, 101: 0.80000, 102: 0.85000, 103: 0.90000,\n",
        "104: 0.96000, 105: 1.00000}"
      ],
      "execution_count": 0,
      "outputs": []
    },
    {
      "metadata": {
        "id": "RhsTGnYnapVo",
        "colab_type": "code",
        "outputId": "63926c44-61bf-43a0-8208-decdace0cddd",
        "colab": {
          "base_uri": "https://localhost:8080/",
          "height": 398
        }
      },
      "cell_type": "code",
      "source": [
        "from matplotlib import pyplot as plt\n",
        "\n",
        "init_invest_age = 50\n",
        "retirement_age = 70\n",
        "init_invest_amount = 150000\n",
        "annu_invest_amount = 10000\n",
        "annu_withdrawl_amount = 65000\n",
        "interest_mean = 0.08\n",
        "interest_std = 0.09\n",
        "\n",
        "trials = 1000\n",
        "\n",
        "final_balances=[]\n",
        "final_ages=[]\n",
        "for trial in range(trials):\n",
        "    balance=init_invest_amount\n",
        "    for year in range(init_invest_age,105):\n",
        "        interest = np.random.normal(interest_mean,interest_std)\n",
        "        balance+=balance*interest\n",
        "        if np.random.random()<data[year]:\n",
        "            final_balances.append(balance)\n",
        "            final_ages.append(year)\n",
        "            break\n",
        "        if year<retirement_age:\n",
        "            balance+=10000\n",
        "        else:\n",
        "            balance-=65000\n",
        "\n",
        "plt.figure(figsize=(14,6))\n",
        "plt.subplot(1,2,1)\n",
        "plt.hist(final_balances, density=True, bins=30)\n",
        "plt.subplot(1,2,2)\n",
        "plt.hist(final_ages, density=True, bins=30)\n",
        "plt.show()"
      ],
      "execution_count": 0,
      "outputs": [
        {
          "output_type": "display_data",
          "data": {
            "image/png": "[encoded data removed]",
            "text/plain": [
              "<Figure size 1008x432 with 2 Axes>"
            ]
          },
          "metadata": {
            "tags": []
          }
        }
      ]
    }
  ]
}