{
  "nbformat": 4,
  "nbformat_minor": 0,
  "metadata": {
    "colab": {
      "name": "CS166PW81.ipynb",
      "version": "0.3.2",
      "provenance": [],
      "collapsed_sections": []
    },
    "kernelspec": {
      "name": "python3",
      "display_name": "Python 3"
    }
  },
  "cells": [
    {
      "metadata": {
        "id": "mzr_IkQWSMfZ",
        "colab_type": "text"
      },
      "cell_type": "markdown",
      "source": [
        "#### CS166 Pre-class Work for Session 8.1:\n",
        "\n",
        "### Network Metrics and Percolation\n",
        "\n",
        "_Yoav Rabinovich, March 2019_\n",
        "\n",
        "-------------"
      ]
    },
    {
      "metadata": {
        "id": "iCZJm_LQSZNO",
        "colab_type": "text"
      },
      "cell_type": "markdown",
      "source": [
        "**Question:**  _Given that $q=e^{ ⟨k⟩ (1-q)}$, what is the theoretical estimate for the number of\n",
        "nodes in the LCC, expressed in terms of the known variables, n, q, and ⟨k⟩ ?_\n"
      ]
    },
    {
      "metadata": {
        "id": "5uXXVvZPSxIf",
        "colab_type": "text"
      },
      "cell_type": "markdown",
      "source": [
        "For each node in $n$, the probability it is not part of the LCC is $q$, and so the probability that it is part of the LCC is the complement. Therefore:\n",
        "\n",
        "$$n_{LCC} = n*(1-q)$$"
      ]
    },
    {
      "metadata": {
        "id": "aRdPkEqiTvYZ",
        "colab_type": "text"
      },
      "cell_type": "markdown",
      "source": [
        "**Task:** _Plot how the size of the LCC depends on the average degree ⟨k⟩ by using $q-e^{ ⟨k⟩ (1-q)}=0 $._"
      ]
    },
    {
      "metadata": {
        "id": "ADY-GEI4Umym",
        "colab_type": "code",
        "colab": {}
      },
      "cell_type": "code",
      "source": [
        "from scipy.optimize import root\n",
        "import numpy as np\n",
        "import matplotlib.pyplot as plt"
      ],
      "execution_count": 0,
      "outputs": []
    },
    {
      "metadata": {
        "id": "H0QBnKPhSL1z",
        "colab_type": "code",
        "colab": {}
      },
      "cell_type": "code",
      "source": [
        "def calculate_q(k):\n",
        "    '''\n",
        "    Use a numerical root finder to determine q from the equation\n",
        "    q = exp(k*(q-1)).\n",
        "    '''\n",
        "    return root(lambda q: q - np.exp(k * (q - 1)), 0).x[0]"
      ],
      "execution_count": 0,
      "outputs": []
    },
    {
      "metadata": {
        "id": "sA6FwEYPSJuZ",
        "colab_type": "code",
        "outputId": "cf8ba984-aa70-4b34-f707-f07f5d55c139",
        "colab": {
          "base_uri": "https://localhost:8080/",
          "height": 347
        }
      },
      "cell_type": "code",
      "source": [
        "n=1000\n",
        "ks = np.linspace(0,5,1000)\n",
        "LCCs = []\n",
        "for k in ks:\n",
        "    q = calculate_q(k)\n",
        "    LCCs.append(np.floor(n*(1-q)))\n",
        "    \n",
        "plt.plot(ks,LCCs)\n",
        "plt.show()"
      ],
      "execution_count": 0,
      "outputs": [
        {
          "output_type": "display_data",
          "data": {
            "image/png": "[encoded data removed]",
            "text/plain": [
              "<Figure size 576x396 with 1 Axes>"
            ]
          },
          "metadata": {
            "tags": []
          }
        }
      ]
    },
    {
      "metadata": {
        "id": "Qt2UvzjVUqYG",
        "colab_type": "code",
        "colab": {}
      },
      "cell_type": "code",
      "source": [
        ""
      ],
      "execution_count": 0,
      "outputs": []
    }
  ]
}