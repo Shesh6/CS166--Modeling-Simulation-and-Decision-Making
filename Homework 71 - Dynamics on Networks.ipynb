{
  "nbformat": 4,
  "nbformat_minor": 0,
  "metadata": {
    "colab": {
      "name": "CS166PW71.ipynb",
      "version": "0.3.2",
      "provenance": [],
      "collapsed_sections": [
        "m6vVKwAbNZ7P",
        "In--t8m5NnCr"
      ]
    },
    "kernelspec": {
      "name": "python3",
      "display_name": "Python 3"
    }
  },
  "cells": [
    {
      "metadata": {
        "id": "oX_18n1dNP3x",
        "colab_type": "text"
      },
      "cell_type": "markdown",
      "source": [
        "#### CS166 Pre-class Work for Session 7.1:\n",
        "\n",
        "### Dynamics of Networks\n",
        "\n",
        "_Yoav Rabinovich, February 2019_\n",
        "\n",
        "----------------------"
      ]
    },
    {
      "metadata": {
        "id": "m6vVKwAbNZ7P",
        "colab_type": "text"
      },
      "cell_type": "markdown",
      "source": [
        "#### Sayama 16.14:\n",
        "\n",
        "_Revise the small­world network formation model\n",
        "above so that the network is initially a two­dimensional grid in which each node is\n",
        "connected to its four neighbors._"
      ]
    },
    {
      "metadata": {
        "id": "yxXsOjgyNLPv",
        "colab_type": "code",
        "colab": {}
      },
      "cell_type": "code",
      "source": [
        "import matplotlib\n",
        "matplotlib.use('TkAgg')\n",
        "from pylab import *\n",
        "import networkx as nx\n",
        "import random as rd\n",
        "\n",
        "# n = 30 # number of nodes\n",
        "# k = 4 # number of neighbors of each node\n",
        "dims=[5,6]\n",
        "\n",
        "def initialize():\n",
        "    global g\n",
        "#    g = nx.Graph()\n",
        "#    for i in range(n):\n",
        "#        for j in range(1, k // 2 + 1):\n",
        "#            g.add_edge(i, (i + j) % n)\n",
        "#            g.add_edge(i, (i - j) % n)\n",
        "    g = nx.grid_graph(dims) \n",
        "    g.pos = nx.spring_layout(g)\n",
        "    g.count = 0\n",
        "\n",
        "def observe():\n",
        "    global g\n",
        "    cla()\n",
        "    nx.draw(g, pos = g.pos)\n",
        "\n",
        "def update():\n",
        "    global g\n",
        "    g.count += 1\n",
        "    if g.count % 20 == 0: # rewiring once in every 20 steps\n",
        "        nds = list(g.nodes)\n",
        "        i = rd.choice(nds)\n",
        "        if g.degree[i] > 0:\n",
        "            g.remove_edge(i, rd.choice(list(g.neighbors(i))))\n",
        "            nds.remove(i)\n",
        "            for j in g.neighbors(i):\n",
        "                nds.remove(j)\n",
        "            g.add_edge(i, rd.choice(nds))\n",
        "\n",
        "    # simulation of node movement\n",
        "    g.pos = nx.spring_layout(g, pos = g.pos, iterations = 5)\n",
        "\n",
        "import pycxsimulator\n",
        "pycxsimulator.GUI().start(func=[initialize, observe, update])"
      ],
      "execution_count": 0,
      "outputs": []
    },
    {
      "metadata": {
        "id": "In--t8m5NnCr",
        "colab_type": "text"
      },
      "cell_type": "markdown",
      "source": [
        "#### Sayama 16.15:\n",
        "\n",
        "_Simulate the Barabási Albert network growth\n",
        "model with m  = 1 , m  = 3 , and m  = 5_"
      ]
    },
    {
      "metadata": {
        "id": "igTU7Lz3NtX0",
        "colab_type": "code",
        "colab": {}
      },
      "cell_type": "code",
      "source": [
        "import matplotlib\n",
        "matplotlib.use('TkAgg')\n",
        "from pylab import *\n",
        "import networkx as nx\n",
        "\n",
        "m0 = 5 # number of nodes in initial condition\n",
        "m = 1 # number of edges per new node\n",
        "\n",
        "def initialize():\n",
        "    global g\n",
        "    g = nx.complete_graph(m0)\n",
        "    g.pos = nx.spring_layout(g)\n",
        "    g.count = 0\n",
        "\n",
        "def observe():\n",
        "    global g\n",
        "    cla()\n",
        "    nx.draw(g, pos = g.pos)\n",
        "\n",
        "def pref_select(nds):\n",
        "    global g\n",
        "    r = uniform(0, sum(g.degree(i) for i in nds))\n",
        "    x=0\n",
        "    for i in nds:\n",
        "        x += g.degree[i]\n",
        "        if r <= x:\n",
        "            return i\n",
        "\n",
        "def update():\n",
        "    global g\n",
        "    g.count += 1\n",
        "    if g.count % 20 == 0: # network growth once in every 20 steps\n",
        "        nds = list(g.nodes)\n",
        "        newcomer = max(nds) + 1\n",
        "        for i in range(m):\n",
        "            j = pref_select(nds)\n",
        "            g.add_edge(newcomer, j)\n",
        "            nds.remove(j)\n",
        "        g.pos[newcomer] = (0, 0)\n",
        "\n",
        "    # simulation of node movement\n",
        "    g.pos = nx.spring_layout(g, pos = g.pos, iterations = 5)\n",
        "\n",
        "import pycxsimulator\n",
        "pycxsimulator.GUI().start(func=[initialize, observe, update])"
      ],
      "execution_count": 0,
      "outputs": []
    }
  ]
}
